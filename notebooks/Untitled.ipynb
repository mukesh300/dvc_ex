{
 "cells": [
  {
   "cell_type": "code",
   "execution_count": 1,
   "id": "9e23b205-7c51-434c-be7f-ab065df3d052",
   "metadata": {},
   "outputs": [],
   "source": [
    "import os\n",
    "import pandas as pd"
   ]
  },
  {
   "cell_type": "code",
   "execution_count": 2,
   "id": "71afb529-cdad-47ea-8ba1-ae29bcb8fd7a",
   "metadata": {},
   "outputs": [],
   "source": [
    "df = pd.read_csv(\"../data_given/winequality.csv\")"
   ]
  },
  {
   "cell_type": "code",
   "execution_count": 6,
   "id": "03b75a67-456f-4731-8dd5-86b9abaa6529",
   "metadata": {},
   "outputs": [
    {
     "name": "stdout",
     "output_type": "stream",
     "text": [
      "<class 'pandas.core.frame.DataFrame'>\n",
      "RangeIndex: 1599 entries, 0 to 1598\n",
      "Data columns (total 12 columns):\n",
      " #   Column                Non-Null Count  Dtype  \n",
      "---  ------                --------------  -----  \n",
      " 0   fixed acidity         1599 non-null   float64\n",
      " 1   volatile acidity      1599 non-null   float64\n",
      " 2   citric acid           1599 non-null   float64\n",
      " 3   residual sugar        1599 non-null   float64\n",
      " 4   chlorides             1599 non-null   float64\n",
      " 5   free sulfur dioxide   1599 non-null   float64\n",
      " 6   total sulfur dioxide  1599 non-null   float64\n",
      " 7   density               1599 non-null   float64\n",
      " 8   pH                    1599 non-null   float64\n",
      " 9   sulphates             1599 non-null   float64\n",
      " 10  alcohol               1599 non-null   float64\n",
      " 11  TARGET                1599 non-null   int64  \n",
      "dtypes: float64(11), int64(1)\n",
      "memory usage: 150.0 KB\n"
     ]
    }
   ],
   "source": [
    "df.info()"
   ]
  },
  {
   "cell_type": "code",
   "execution_count": 9,
   "id": "e2ca65cd-8f4a-4b96-8307-f42c52ddebec",
   "metadata": {},
   "outputs": [
    {
     "data": {
      "text/html": [
       "<div>\n",
       "<style scoped>\n",
       "    .dataframe tbody tr th:only-of-type {\n",
       "        vertical-align: middle;\n",
       "    }\n",
       "\n",
       "    .dataframe tbody tr th {\n",
       "        vertical-align: top;\n",
       "    }\n",
       "\n",
       "    .dataframe thead th {\n",
       "        text-align: right;\n",
       "    }\n",
       "</style>\n",
       "<table border=\"1\" class=\"dataframe\">\n",
       "  <thead>\n",
       "    <tr style=\"text-align: right;\">\n",
       "      <th></th>\n",
       "      <th>count</th>\n",
       "      <th>mean</th>\n",
       "      <th>std</th>\n",
       "      <th>min</th>\n",
       "      <th>25%</th>\n",
       "      <th>50%</th>\n",
       "      <th>75%</th>\n",
       "      <th>max</th>\n",
       "    </tr>\n",
       "  </thead>\n",
       "  <tbody>\n",
       "    <tr>\n",
       "      <th>fixed acidity</th>\n",
       "      <td>1599.0</td>\n",
       "      <td>8.319637</td>\n",
       "      <td>1.741096</td>\n",
       "      <td>4.60000</td>\n",
       "      <td>7.1000</td>\n",
       "      <td>7.90000</td>\n",
       "      <td>9.200000</td>\n",
       "      <td>15.90000</td>\n",
       "    </tr>\n",
       "    <tr>\n",
       "      <th>volatile acidity</th>\n",
       "      <td>1599.0</td>\n",
       "      <td>0.527821</td>\n",
       "      <td>0.179060</td>\n",
       "      <td>0.12000</td>\n",
       "      <td>0.3900</td>\n",
       "      <td>0.52000</td>\n",
       "      <td>0.640000</td>\n",
       "      <td>1.58000</td>\n",
       "    </tr>\n",
       "    <tr>\n",
       "      <th>citric acid</th>\n",
       "      <td>1599.0</td>\n",
       "      <td>0.270976</td>\n",
       "      <td>0.194801</td>\n",
       "      <td>0.00000</td>\n",
       "      <td>0.0900</td>\n",
       "      <td>0.26000</td>\n",
       "      <td>0.420000</td>\n",
       "      <td>1.00000</td>\n",
       "    </tr>\n",
       "    <tr>\n",
       "      <th>residual sugar</th>\n",
       "      <td>1599.0</td>\n",
       "      <td>2.538806</td>\n",
       "      <td>1.409928</td>\n",
       "      <td>0.90000</td>\n",
       "      <td>1.9000</td>\n",
       "      <td>2.20000</td>\n",
       "      <td>2.600000</td>\n",
       "      <td>15.50000</td>\n",
       "    </tr>\n",
       "    <tr>\n",
       "      <th>chlorides</th>\n",
       "      <td>1599.0</td>\n",
       "      <td>0.087467</td>\n",
       "      <td>0.047065</td>\n",
       "      <td>0.01200</td>\n",
       "      <td>0.0700</td>\n",
       "      <td>0.07900</td>\n",
       "      <td>0.090000</td>\n",
       "      <td>0.61100</td>\n",
       "    </tr>\n",
       "    <tr>\n",
       "      <th>free sulfur dioxide</th>\n",
       "      <td>1599.0</td>\n",
       "      <td>15.874922</td>\n",
       "      <td>10.460157</td>\n",
       "      <td>1.00000</td>\n",
       "      <td>7.0000</td>\n",
       "      <td>14.00000</td>\n",
       "      <td>21.000000</td>\n",
       "      <td>72.00000</td>\n",
       "    </tr>\n",
       "    <tr>\n",
       "      <th>total sulfur dioxide</th>\n",
       "      <td>1599.0</td>\n",
       "      <td>46.467792</td>\n",
       "      <td>32.895324</td>\n",
       "      <td>6.00000</td>\n",
       "      <td>22.0000</td>\n",
       "      <td>38.00000</td>\n",
       "      <td>62.000000</td>\n",
       "      <td>289.00000</td>\n",
       "    </tr>\n",
       "    <tr>\n",
       "      <th>density</th>\n",
       "      <td>1599.0</td>\n",
       "      <td>0.996747</td>\n",
       "      <td>0.001887</td>\n",
       "      <td>0.99007</td>\n",
       "      <td>0.9956</td>\n",
       "      <td>0.99675</td>\n",
       "      <td>0.997835</td>\n",
       "      <td>1.00369</td>\n",
       "    </tr>\n",
       "    <tr>\n",
       "      <th>pH</th>\n",
       "      <td>1599.0</td>\n",
       "      <td>3.311113</td>\n",
       "      <td>0.154386</td>\n",
       "      <td>2.74000</td>\n",
       "      <td>3.2100</td>\n",
       "      <td>3.31000</td>\n",
       "      <td>3.400000</td>\n",
       "      <td>4.01000</td>\n",
       "    </tr>\n",
       "    <tr>\n",
       "      <th>sulphates</th>\n",
       "      <td>1599.0</td>\n",
       "      <td>0.658149</td>\n",
       "      <td>0.169507</td>\n",
       "      <td>0.33000</td>\n",
       "      <td>0.5500</td>\n",
       "      <td>0.62000</td>\n",
       "      <td>0.730000</td>\n",
       "      <td>2.00000</td>\n",
       "    </tr>\n",
       "    <tr>\n",
       "      <th>alcohol</th>\n",
       "      <td>1599.0</td>\n",
       "      <td>10.422983</td>\n",
       "      <td>1.065668</td>\n",
       "      <td>8.40000</td>\n",
       "      <td>9.5000</td>\n",
       "      <td>10.20000</td>\n",
       "      <td>11.100000</td>\n",
       "      <td>14.90000</td>\n",
       "    </tr>\n",
       "    <tr>\n",
       "      <th>TARGET</th>\n",
       "      <td>1599.0</td>\n",
       "      <td>5.636023</td>\n",
       "      <td>0.807569</td>\n",
       "      <td>3.00000</td>\n",
       "      <td>5.0000</td>\n",
       "      <td>6.00000</td>\n",
       "      <td>6.000000</td>\n",
       "      <td>8.00000</td>\n",
       "    </tr>\n",
       "  </tbody>\n",
       "</table>\n",
       "</div>"
      ],
      "text/plain": [
       "                       count       mean        std      min      25%  \\\n",
       "fixed acidity         1599.0   8.319637   1.741096  4.60000   7.1000   \n",
       "volatile acidity      1599.0   0.527821   0.179060  0.12000   0.3900   \n",
       "citric acid           1599.0   0.270976   0.194801  0.00000   0.0900   \n",
       "residual sugar        1599.0   2.538806   1.409928  0.90000   1.9000   \n",
       "chlorides             1599.0   0.087467   0.047065  0.01200   0.0700   \n",
       "free sulfur dioxide   1599.0  15.874922  10.460157  1.00000   7.0000   \n",
       "total sulfur dioxide  1599.0  46.467792  32.895324  6.00000  22.0000   \n",
       "density               1599.0   0.996747   0.001887  0.99007   0.9956   \n",
       "pH                    1599.0   3.311113   0.154386  2.74000   3.2100   \n",
       "sulphates             1599.0   0.658149   0.169507  0.33000   0.5500   \n",
       "alcohol               1599.0  10.422983   1.065668  8.40000   9.5000   \n",
       "TARGET                1599.0   5.636023   0.807569  3.00000   5.0000   \n",
       "\n",
       "                           50%        75%        max  \n",
       "fixed acidity          7.90000   9.200000   15.90000  \n",
       "volatile acidity       0.52000   0.640000    1.58000  \n",
       "citric acid            0.26000   0.420000    1.00000  \n",
       "residual sugar         2.20000   2.600000   15.50000  \n",
       "chlorides              0.07900   0.090000    0.61100  \n",
       "free sulfur dioxide   14.00000  21.000000   72.00000  \n",
       "total sulfur dioxide  38.00000  62.000000  289.00000  \n",
       "density                0.99675   0.997835    1.00369  \n",
       "pH                     3.31000   3.400000    4.01000  \n",
       "sulphates              0.62000   0.730000    2.00000  \n",
       "alcohol               10.20000  11.100000   14.90000  \n",
       "TARGET                 6.00000   6.000000    8.00000  "
      ]
     },
     "execution_count": 9,
     "metadata": {},
     "output_type": "execute_result"
    }
   ],
   "source": [
    "df.describe().T"
   ]
  },
  {
   "cell_type": "code",
   "execution_count": 11,
   "id": "f5abe2c3-42bf-4444-b1dd-b537dfa0e04b",
   "metadata": {},
   "outputs": [],
   "source": [
    "df.describe().loc[[\"min\", \"max\"]].to_json(\"in_range.json\")"
   ]
  },
  {
   "cell_type": "code",
   "execution_count": 35,
   "id": "436ced30-5d8c-47a0-90ce-1f5a183e0483",
   "metadata": {},
   "outputs": [
    {
     "data": {
      "text/plain": [
       "12586269025"
      ]
     },
     "execution_count": 35,
     "metadata": {},
     "output_type": "execute_result"
    }
   ],
   "source": [
    "def fib_r(x):\n",
    "    if x<1: return None\n",
    "    if x<3: return 1\n",
    "    return fib_r(x-1) + fib_r(x-2)\n",
    "\n",
    "def fib_m(x, memo={}):\n",
    "    if x<1: return None\n",
    "    if x<3: return 1\n",
    "    if x in memo: return memo[x]\n",
    "    memo[x] = fib_m(x-1, memo) + fib_m(x-2, memo)\n",
    "    return memo[x]\n",
    "\n",
    "def fib_t(x):\n",
    "    if x<1: return None\n",
    "    if x in [1, 2]:\n",
    "        return 1\n",
    "    else:\n",
    "        tabl = [None]*x\n",
    "        tabl[0], tabl[1] = 1, 1 \n",
    "        for i in range(2, len(tabl)):\n",
    "            tabl[i] = tabl[i-1]+tabl[i-2]\n",
    "        return tabl[x-1]\n",
    "fib_t(50)"
   ]
  },
  {
   "cell_type": "code",
   "execution_count": 38,
   "id": "d43e8348-cc67-4e99-9ecb-926d91b823c7",
   "metadata": {},
   "outputs": [],
   "source": [
    "def can_sum(t_sum, arr):\n",
    "    table = [False]*(t_sum+1)\n",
    "    table[0]=True\n",
    "    \n",
    "    for i in range(t_sum):\n",
    "        if table[i]:\n",
    "            for num in arr:\n",
    "                if i+num <= t_sum:\n",
    "                    table[i+num]=table[i]\n",
    "    print(table)\n",
    "    return table[t_sum]"
   ]
  },
  {
   "cell_type": "code",
   "execution_count": 39,
   "id": "1d3eb966-d679-45b7-9da9-915fa3fc5391",
   "metadata": {},
   "outputs": [
    {
     "name": "stdout",
     "output_type": "stream",
     "text": [
      "[True, False, True, True, True, True]\n"
     ]
    },
    {
     "data": {
      "text/plain": [
       "True"
      ]
     },
     "execution_count": 39,
     "metadata": {},
     "output_type": "execute_result"
    }
   ],
   "source": [
    "can_sum(5, [2, 3])"
   ]
  },
  {
   "cell_type": "code",
   "execution_count": 68,
   "id": "118468ef-7415-4615-bdf4-8a07b037b26f",
   "metadata": {},
   "outputs": [],
   "source": [
    "def how_sum(t_sum, arr):\n",
    "    if t_sum < 0: return None\n",
    "    if t_sum == 0: return [[]]\n",
    "    \n",
    "    for num in arr:\n",
    "        remainder_sum = how_sum(t_sum-num, arr)\n",
    "        if remainder_sum is not None:\n",
    "            memo[t_sum] = remainder_sum+[num]\n",
    "            return memo[t_sum]\n",
    "    return None\n",
    "\n",
    "# def best_sum(t_sum, arr):\n",
    "#     table = [None]*(t_sum+1)\n",
    "#     table[0]=[]\n",
    "\n",
    "#     for i in range(len(table)):\n",
    "#         if table[i] is not None:\n",
    "#             for num in arr:\n",
    "#                 if i+num <= t_sum:\n",
    "#                     table[i+num] = table[i]+[num]\n",
    "            \n",
    "#     return table[t_sum]\n",
    "\n",
    "def can_construct(t_txt, w_bank):\n",
    "    table = [False]*(len(t_txt)+1)\n",
    "    table[0] = True\n",
    "    \n",
    "    for i in range(len(t_txt)+1):\n",
    "        if table[i]:\n",
    "            for word in w_bank:\n",
    "                if t_txt[i:].startswith(word):\n",
    "                    table[i+len(word)]=table[i]\n",
    "    return table[len(t_txt)]"
   ]
  },
  {
   "cell_type": "code",
   "execution_count": 71,
   "id": "65f78b6e-4267-4b04-bc48-e62919f38d5e",
   "metadata": {},
   "outputs": [
    {
     "data": {
      "text/plain": [
       "True"
      ]
     },
     "execution_count": 71,
     "metadata": {},
     "output_type": "execute_result"
    }
   ],
   "source": [
    "can_construct(\"abcde\", [\"a\", \"b\", \"cd\", \"de\", \"e\"])"
   ]
  },
  {
   "cell_type": "code",
   "execution_count": 83,
   "id": "1ddc33fe-670a-4435-9ac7-2d500fa98bb8",
   "metadata": {},
   "outputs": [],
   "source": [
    "def c_construct(t_txt, w_bank):\n",
    "    table = [0]*(len(t_txt)+1)\n",
    "    table[0] = 1\n",
    "    \n",
    "    for i in range(len(t_txt)+1):\n",
    "        if table[i] > 0:\n",
    "            for word in w_bank:\n",
    "                if t_txt[i:].startswith(word):\n",
    "                    table[i+len(word)]+=table[i]\n",
    "    return table[len(t_txt)]"
   ]
  },
  {
   "cell_type": "code",
   "execution_count": 85,
   "id": "ba1a74c5-e956-4202-8913-0d6200be08b7",
   "metadata": {},
   "outputs": [
    {
     "data": {
      "text/plain": [
       "1"
      ]
     },
     "execution_count": 85,
     "metadata": {},
     "output_type": "execute_result"
    }
   ],
   "source": [
    "c_construct(\"abcde\", [\"a\", \"b\", \"cd\", \"de\", \"e\", \"ck\"])"
   ]
  },
  {
   "cell_type": "code",
   "execution_count": 91,
   "id": "eb8032be-448b-4c41-9f07-2d06c81f8b60",
   "metadata": {},
   "outputs": [],
   "source": [
    "def all_construct(t_txt, w_bank, memo={}):\n",
    "    if t_txt in memo: return memo[t_txt]\n",
    "    if t_txt == \"\": return [[]]\n",
    "    result = []\n",
    "    for word in w_bank:\n",
    "        if t_txt.startswith(word):\n",
    "            suffix_ways = all_construct(t_txt[len(word):], w_bank)\n",
    "            print(suffix_ways)\n",
    "            target_ways = list(map(lambda x:[word]+x, suffix_ways))\n",
    "            result.extend(target_ways)\n",
    "    memo[t_txt] = result\n",
    "    return result                "
   ]
  },
  {
   "cell_type": "code",
   "execution_count": 102,
   "id": "19efb27d-09ac-4d75-be0b-437744534c56",
   "metadata": {},
   "outputs": [
    {
     "data": {
      "text/plain": [
       "[['a', 'b', 'c', 'de'], ['a', 'b', 'cd', 'e']]"
      ]
     },
     "execution_count": 102,
     "metadata": {},
     "output_type": "execute_result"
    }
   ],
   "source": [
    "all_construct(\"abcde\", [\"a\", \"b\", \"cd\", \"de\", \"e\", \"c\"])"
   ]
  },
  {
   "cell_type": "code",
   "execution_count": 101,
   "id": "a80476fa-3328-4774-89e6-d7fe11f74f4b",
   "metadata": {},
   "outputs": [],
   "source": [
    "def all_construct(t_txt, w_bank):\n",
    "    table = [None]*(len(t_txt)+1)\n",
    "    table[0]=[[]]\n",
    "    \n",
    "    for i in range(len(t_txt)+1):\n",
    "        if table[i] is not None:\n",
    "            for word in w_bank:\n",
    "                if t_txt[i:].startswith(word) and i+len(word) <= len(t_txt):\n",
    "                    if table[i+len(word)] is not None:\n",
    "                        table[i+len(word)]  += list(map(lambda x: x+[word], table[i]))\n",
    "                    else:\n",
    "                        table[i+len(word)]  = list(map(lambda x: x+[word], table[i]))\n",
    "    return table[-1]"
   ]
  },
  {
   "cell_type": "code",
   "execution_count": 104,
   "id": "cd9c1c17-16cb-40b2-a63d-5b939f9d35d6",
   "metadata": {},
   "outputs": [
    {
     "data": {
      "text/plain": [
       "{(1, 4), (2, 3)}"
      ]
     },
     "execution_count": 104,
     "metadata": {},
     "output_type": "execute_result"
    }
   ],
   "source": [
    "def pair_sum(t_sum, arr):\n",
    "    result = set()\n",
    "    for num in arr:\n",
    "        if abs(t_sum-num) in arr:\n",
    "            result.add((min(abs(t_sum-num), num), max(abs(t_sum-num), num)))\n",
    "    return result\n",
    "            \n",
    "    \n",
    "    \n",
    "pair_sum(5, [1, 2, 3, 4])"
   ]
  },
  {
   "cell_type": "code",
   "execution_count": 105,
   "id": "570e165c-1933-4c5e-af08-6eb3f7f62fa7",
   "metadata": {},
   "outputs": [
    {
     "data": {
      "text/plain": [
       "[0, 1, 2, 3, 5, 6, 9, 10]"
      ]
     },
     "execution_count": 105,
     "metadata": {},
     "output_type": "execute_result"
    }
   ],
   "source": [
    "def insertion_sort(arr):\n",
    "    if len(arr)<2: return arr\n",
    "    \n",
    "    for i in range(1, len(arr)):\n",
    "        anchor = arr[i]\n",
    "        j = i-1\n",
    "        while j>=0 and anchor<arr[j]:\n",
    "            arr[j+1] = arr[j]\n",
    "            j-=1\n",
    "        arr[j+1] = anchor\n",
    "    return arr\n",
    "\n",
    "insertion_sort([5, 6, 10, 2, 9, 1, 0, 3])"
   ]
  },
  {
   "cell_type": "code",
   "execution_count": 108,
   "id": "fc514055-da52-4c0b-92a5-aba49b27587a",
   "metadata": {},
   "outputs": [
    {
     "data": {
      "text/plain": [
       "[0, 1, 2, 3, 5, 6, 9, 10]"
      ]
     },
     "execution_count": 108,
     "metadata": {},
     "output_type": "execute_result"
    }
   ],
   "source": [
    "def merge(left, right, lst):\n",
    "    n_left, n_right = len(left), len(right)\n",
    "    i, j, k = 0 , 0, 0\n",
    "    \n",
    "    while n_left > i and n_right > j:\n",
    "        if left[i] <= right[j]:\n",
    "            lst[k] = left[i]\n",
    "            i+=1\n",
    "        else:\n",
    "            lst[k] = right[j]\n",
    "            j+=1\n",
    "        k+=1\n",
    "    \n",
    "    while n_left > i:\n",
    "        lst[k] = left[i]\n",
    "        i+=1\n",
    "        k+=1\n",
    "    while n_right > j:\n",
    "        lst[k] = right[j]\n",
    "        j+=1\n",
    "        k+=1\n",
    "        \n",
    "def merge_sort(lst):\n",
    "    if len(lst)<2: return \n",
    "    \n",
    "    mid_index = len(lst)//2\n",
    "    left = lst[:mid_index]\n",
    "    right = lst[mid_index:]\n",
    "    merge_sort(left)\n",
    "    merge_sort(right)\n",
    "    merge(left, right, lst)\n",
    "    \n",
    "lst = [5, 6, 10, 2, 9, 1, 0, 3]\n",
    "merge_sort(lst)\n",
    "lst"
   ]
  },
  {
   "cell_type": "code",
   "execution_count": null,
   "id": "a943b1de-9913-405a-ad43-6c9d1a5c39f0",
   "metadata": {},
   "outputs": [],
   "source": []
  }
 ],
 "metadata": {
  "kernelspec": {
   "display_name": "Python 3",
   "language": "python",
   "name": "python3"
  },
  "language_info": {
   "codemirror_mode": {
    "name": "ipython",
    "version": 3
   },
   "file_extension": ".py",
   "mimetype": "text/x-python",
   "name": "python",
   "nbconvert_exporter": "python",
   "pygments_lexer": "ipython3",
   "version": "3.9.5"
  }
 },
 "nbformat": 4,
 "nbformat_minor": 5
}
